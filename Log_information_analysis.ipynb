{
 "cells": [
  {
   "cell_type": "code",
   "execution_count": 1,
   "metadata": {},
   "outputs": [],
   "source": [
    "import re\n",
    "import numpy as np\n",
    "import pandas as pd"
   ]
  },
  {
   "cell_type": "code",
   "execution_count": 2,
   "metadata": {},
   "outputs": [],
   "source": [
    "path_to_data = 'data/ECU_IoHT.xlsx'\n",
    "data = pd.read_excel(path_to_data)"
   ]
  },
  {
   "cell_type": "code",
   "execution_count": 3,
   "metadata": {},
   "outputs": [],
   "source": [
    "def extract_source_destination_port(text):\n",
    "    match = re.search(r'(\\d+)\\s*>\\s*(\\d+)', text)\n",
    "    if match:\n",
    "        source, destination = match.groups()\n",
    "        # Remove the matched substring from text\n",
    "        updated_text = text.replace(match.group(0), '', 1).strip()\n",
    "        return int(source), int(destination), updated_text\n",
    "    else:\n",
    "        return np.nan, np.nan, text"
   ]
  },
  {
   "cell_type": "code",
   "execution_count": 4,
   "metadata": {},
   "outputs": [],
   "source": [
    "df = pd.DataFrame()\n",
    "df[['source_p', 'destination_p', 'updated_info']] = data.Info.apply(lambda x: pd.Series(extract_source_destination_port(x)))"
   ]
  },
  {
   "cell_type": "code",
   "execution_count": 5,
   "metadata": {},
   "outputs": [
    {
     "data": {
      "text/plain": [
       "(8833, 24010)"
      ]
     },
     "execution_count": 5,
     "metadata": {},
     "output_type": "execute_result"
    }
   ],
   "source": [
    "df['updated_info'].nunique(), data['Info'].nunique()"
   ]
  },
  {
   "cell_type": "code",
   "execution_count": 6,
   "metadata": {},
   "outputs": [],
   "source": [
    "def extract_seq(text):\n",
    "    # Adjust regex to match the sequence number\n",
    "    match = re.search(r'seq\\s*=\\s*(\\d+)', text, re.IGNORECASE)  #\n",
    "    if match:\n",
    "        Seq = match.group(1)  # Get the first group directly\n",
    "        updated_text = text.replace(match.group(0), '', 1).strip()\n",
    "        return int(Seq), updated_text\n",
    "    else:\n",
    "        return np.nan, text\n"
   ]
  },
  {
   "cell_type": "code",
   "execution_count": 7,
   "metadata": {},
   "outputs": [],
   "source": [
    "df2 = pd.DataFrame()\n",
    "df2[['seq', 'updated_info']] = df['updated_info'].apply(lambda x: pd.Series(extract_seq(x)))"
   ]
  },
  {
   "cell_type": "code",
   "execution_count": 8,
   "metadata": {},
   "outputs": [
    {
     "data": {
      "text/plain": [
       "(7677, 8833, 24010)"
      ]
     },
     "execution_count": 8,
     "metadata": {},
     "output_type": "execute_result"
    }
   ],
   "source": [
    "df2['updated_info'].nunique(), df['updated_info'].nunique(), data['Info'].nunique()"
   ]
  },
  {
   "cell_type": "code",
   "execution_count": 9,
   "metadata": {},
   "outputs": [
    {
     "data": {
      "text/plain": [
       "2379"
      ]
     },
     "execution_count": 9,
     "metadata": {},
     "output_type": "execute_result"
    }
   ],
   "source": [
    "df2[df2['seq'].notna()]['seq'].nunique()"
   ]
  },
  {
   "cell_type": "code",
   "execution_count": 10,
   "metadata": {},
   "outputs": [],
   "source": [
    "def extract_transaction_id(text):\n",
    "    # Regex to match transaction ID starting with 0x and followed by hexadecimal characters\n",
    "    match = re.search(r'0x[0-9a-fA-F]+', text)\n",
    "    \n",
    "    if match:\n",
    "        # Extract the transaction ID as a string\n",
    "        transaction_id = match.group(0)\n",
    "        \n",
    "        # Remove the transaction ID from the original text\n",
    "        updated_text = text.replace(match.group(0), '').strip()  # Strip to clean up any leading/trailing spaces\n",
    "        \n",
    "        # Return the integer value of the transaction ID and the updated text\n",
    "        return int(transaction_id, 16), updated_text  # Convert hex to integer and return\n",
    "        \n",
    "    else:\n",
    "        # If no transaction ID is found, return np.nan for both values\n",
    "        return np.nan, text\n"
   ]
  },
  {
   "cell_type": "code",
   "execution_count": 11,
   "metadata": {},
   "outputs": [],
   "source": [
    "df3 = pd.DataFrame()\n",
    "df3[['transaction_id', 'updated_info']] = df2['updated_info'].apply(lambda x: pd.Series(extract_transaction_id(x)))"
   ]
  },
  {
   "cell_type": "code",
   "execution_count": 12,
   "metadata": {},
   "outputs": [
    {
     "data": {
      "text/plain": [
       "(7166, 7677, 8833, 24010)"
      ]
     },
     "execution_count": 12,
     "metadata": {},
     "output_type": "execute_result"
    }
   ],
   "source": [
    "df3['updated_info'].nunique(), df2['updated_info'].nunique(), df['updated_info'].nunique(), data['Info'].nunique()"
   ]
  },
  {
   "cell_type": "code",
   "execution_count": 13,
   "metadata": {},
   "outputs": [],
   "source": [
    "def extract_len(text):\n",
    "    match = re.search(r'Len=(\\d+)', text)\n",
    "    if match:\n",
    "        length = match.group(1) \n",
    "        updated_text = text.replace(match.group(0), '').strip()  # Strip to clean up any leading/trailing spaces\n",
    "        return int(length), updated_text\n",
    "    else:\n",
    "        return np.nan, text"
   ]
  },
  {
   "cell_type": "code",
   "execution_count": 14,
   "metadata": {},
   "outputs": [],
   "source": [
    "df4 = pd.DataFrame()\n",
    "df4[['Len', 'updated_info']] = df3['updated_info'].apply(lambda x: pd.Series(extract_len(x)))"
   ]
  },
  {
   "cell_type": "code",
   "execution_count": 15,
   "metadata": {},
   "outputs": [
    {
     "data": {
      "text/html": [
       "<div>\n",
       "<style scoped>\n",
       "    .dataframe tbody tr th:only-of-type {\n",
       "        vertical-align: middle;\n",
       "    }\n",
       "\n",
       "    .dataframe tbody tr th {\n",
       "        vertical-align: top;\n",
       "    }\n",
       "\n",
       "    .dataframe thead th {\n",
       "        text-align: right;\n",
       "    }\n",
       "</style>\n",
       "<table border=\"1\" class=\"dataframe\">\n",
       "  <thead>\n",
       "    <tr style=\"text-align: right;\">\n",
       "      <th></th>\n",
       "      <th>Len</th>\n",
       "      <th>updated_info</th>\n",
       "    </tr>\n",
       "  </thead>\n",
       "  <tbody>\n",
       "    <tr>\n",
       "      <th>6</th>\n",
       "      <td>0.0</td>\n",
       "      <td>[SYN]  Win=1024  MSS=1460</td>\n",
       "    </tr>\n",
       "    <tr>\n",
       "      <th>7</th>\n",
       "      <td>0.0</td>\n",
       "      <td>[SYN]  Win=1024  MSS=1460</td>\n",
       "    </tr>\n",
       "    <tr>\n",
       "      <th>8</th>\n",
       "      <td>0.0</td>\n",
       "      <td>[SYN]  Win=1024  MSS=1460</td>\n",
       "    </tr>\n",
       "    <tr>\n",
       "      <th>9</th>\n",
       "      <td>0.0</td>\n",
       "      <td>[SYN]  Win=1024  MSS=1460</td>\n",
       "    </tr>\n",
       "    <tr>\n",
       "      <th>10</th>\n",
       "      <td>0.0</td>\n",
       "      <td>[SYN]  Win=1024  MSS=1460</td>\n",
       "    </tr>\n",
       "    <tr>\n",
       "      <th>...</th>\n",
       "      <td>...</td>\n",
       "      <td>...</td>\n",
       "    </tr>\n",
       "    <tr>\n",
       "      <th>111197</th>\n",
       "      <td>69.0</td>\n",
       "      <td>[TCP Retransmission]  [PSH, ACK]  Ack=1 Win=4565</td>\n",
       "    </tr>\n",
       "    <tr>\n",
       "      <th>111198</th>\n",
       "      <td>0.0</td>\n",
       "      <td>[ACK]  Ack=76 Win=4490</td>\n",
       "    </tr>\n",
       "    <tr>\n",
       "      <th>111199</th>\n",
       "      <td>341.0</td>\n",
       "      <td>[TCP Retransmission]  [PSH, ACK]  Ack=76 Win=4490</td>\n",
       "    </tr>\n",
       "    <tr>\n",
       "      <th>111200</th>\n",
       "      <td>0.0</td>\n",
       "      <td>[ACK]  Ack=518 Win=4048</td>\n",
       "    </tr>\n",
       "    <tr>\n",
       "      <th>111201</th>\n",
       "      <td>0.0</td>\n",
       "      <td>[RST, ACK]  Ack=519 Win=5840</td>\n",
       "    </tr>\n",
       "  </tbody>\n",
       "</table>\n",
       "<p>23498 rows × 2 columns</p>\n",
       "</div>"
      ],
      "text/plain": [
       "          Len                                       updated_info\n",
       "6         0.0                          [SYN]  Win=1024  MSS=1460\n",
       "7         0.0                          [SYN]  Win=1024  MSS=1460\n",
       "8         0.0                          [SYN]  Win=1024  MSS=1460\n",
       "9         0.0                          [SYN]  Win=1024  MSS=1460\n",
       "10        0.0                          [SYN]  Win=1024  MSS=1460\n",
       "...       ...                                                ...\n",
       "111197   69.0   [TCP Retransmission]  [PSH, ACK]  Ack=1 Win=4565\n",
       "111198    0.0                             [ACK]  Ack=76 Win=4490\n",
       "111199  341.0  [TCP Retransmission]  [PSH, ACK]  Ack=76 Win=4490\n",
       "111200    0.0                            [ACK]  Ack=518 Win=4048\n",
       "111201    0.0                       [RST, ACK]  Ack=519 Win=5840\n",
       "\n",
       "[23498 rows x 2 columns]"
      ]
     },
     "execution_count": 15,
     "metadata": {},
     "output_type": "execute_result"
    }
   ],
   "source": [
    "df4[df4['Len'].notna()]"
   ]
  },
  {
   "cell_type": "code",
   "execution_count": 16,
   "metadata": {},
   "outputs": [
    {
     "data": {
      "text/plain": [
       "(7132, 7166)"
      ]
     },
     "execution_count": 16,
     "metadata": {},
     "output_type": "execute_result"
    }
   ],
   "source": [
    "df4['updated_info'].nunique(), df3['updated_info'].nunique()"
   ]
  },
  {
   "cell_type": "code",
   "execution_count": 17,
   "metadata": {},
   "outputs": [
    {
     "data": {
      "text/plain": [
       "updated_info\n",
       "Echo (ping) request  id=, /59262, ttl=64 (no response found!)    77715\n",
       "[SYN]  Win=1024  MSS=1460                                         7307\n",
       "Application Data                                                  4029\n",
       "[RST, ACK]  Ack=1 Win=5840                                        3426\n",
       "[RST, ACK]  Ack=1 Win=0                                           2798\n",
       "                                                                 ...  \n",
       "[ACK]  Ack=228234 Win=246272  TSval=2005589 TSecr=1956108099         1\n",
       "[ACK]  Ack=225418 Win=243328  TSval=2005588 TSecr=1956108099         1\n",
       "[ACK]  Ack=222602 Win=239360  TSval=2005510 TSecr=1956107756         1\n",
       "[ACK]  Ack=216970 Win=243328  TSval=2005510 TSecr=1956107756         1\n",
       "[TCP Dup ACK 111171#1]  [ACK]  Ack=518 Win=4048                      1\n",
       "Name: count, Length: 7132, dtype: int64"
      ]
     },
     "execution_count": 17,
     "metadata": {},
     "output_type": "execute_result"
    }
   ],
   "source": [
    "df4['updated_info'].value_counts()"
   ]
  },
  {
   "cell_type": "code",
   "execution_count": 18,
   "metadata": {},
   "outputs": [],
   "source": [
    "def extract_rquests_vs_responce():\n",
    "    pass"
   ]
  },
  {
   "cell_type": "code",
   "execution_count": 19,
   "metadata": {},
   "outputs": [],
   "source": [
    "def extract_win(text):\n",
    "    match = re.search(r'Win=(\\d+)', text)\n",
    "    if match:\n",
    "        length = match.group(1) \n",
    "        updated_text = text.replace(match.group(0), '').strip()  # Strip to clean up any leading/trailing spaces\n",
    "        return int(length), updated_text\n",
    "    else:\n",
    "        return np.nan, text"
   ]
  },
  {
   "cell_type": "code",
   "execution_count": 20,
   "metadata": {},
   "outputs": [],
   "source": [
    "df5 = pd.DataFrame()\n",
    "df5[['Win', 'updated_info']] = df4['updated_info'].apply(lambda x: pd.Series(extract_win(x)))"
   ]
  },
  {
   "cell_type": "code",
   "execution_count": 21,
   "metadata": {},
   "outputs": [
    {
     "data": {
      "text/plain": [
       "(7114, 7132, 7166)"
      ]
     },
     "execution_count": 21,
     "metadata": {},
     "output_type": "execute_result"
    }
   ],
   "source": [
    "df5['updated_info'].nunique(),df4['updated_info'].nunique(), df3['updated_info'].nunique()"
   ]
  },
  {
   "cell_type": "code",
   "execution_count": 22,
   "metadata": {},
   "outputs": [
    {
     "data": {
      "text/plain": [
       "Win      updated_info                                                                       \n",
       "1024.0   [SYN]    MSS=1460                                                                      7307\n",
       "5840.0   [RST, ACK]  Ack=1                                                                      3426\n",
       "0.0      [RST, ACK]  Ack=1                                                                      2798\n",
       "32767.0  [SYN]                                                                                  1023\n",
       "5840.0   [TCP Retransmission]  [SYN]    MSS=1460                                                 329\n",
       "                                                                                                ... \n",
       "30848.0  [FIN, ACK]  Ack=800   TSval=2029916 TSecr=1956201693                                      1\n",
       "         [FIN, ACK]  Ack=766   TSval=2022525 TSecr=1956175017                                      1\n",
       "         [ACK]  Ack=801   TSval=2029948 TSecr=1956205545                                           1\n",
       "         [ACK]  Ack=800   TSval=2028985 TSecr=1956201693                                           1\n",
       "40704.0  [ACK]  Ack=4076   TSval=1985243 TSecr=1956026726 [TCP segment of a reassembled PDU]       1\n",
       "Name: count, Length: 6423, dtype: int64"
      ]
     },
     "execution_count": 22,
     "metadata": {},
     "output_type": "execute_result"
    }
   ],
   "source": [
    "df5[df5['Win'].notna()].value_counts()"
   ]
  },
  {
   "cell_type": "code",
   "execution_count": 23,
   "metadata": {},
   "outputs": [],
   "source": [
    "def extract_MSS(text):\n",
    "    match = re.search(r'MSS=(\\d+)', text)\n",
    "    if match:\n",
    "        length = match.group(1) \n",
    "        updated_text = text.replace(match.group(0), '').strip()  # Strip to clean up any leading/trailing spaces\n",
    "        return int(length), updated_text\n",
    "    else:\n",
    "        return np.nan, text"
   ]
  },
  {
   "cell_type": "code",
   "execution_count": 24,
   "metadata": {},
   "outputs": [],
   "source": [
    "df6 = pd.DataFrame()\n",
    "df6[['MSS', 'updated_info']] = df5['updated_info'].apply(lambda x: pd.Series(extract_MSS(x)))"
   ]
  },
  {
   "cell_type": "code",
   "execution_count": 25,
   "metadata": {},
   "outputs": [
    {
     "data": {
      "text/plain": [
       "(7112, 7114)"
      ]
     },
     "execution_count": 25,
     "metadata": {},
     "output_type": "execute_result"
    }
   ],
   "source": [
    "df6['updated_info'].nunique(),df5['updated_info'].nunique()"
   ]
  },
  {
   "cell_type": "code",
   "execution_count": 26,
   "metadata": {},
   "outputs": [
    {
     "data": {
      "text/plain": [
       "MSS     updated_info                                                          \n",
       "1460.0  [SYN]                                                                     7362\n",
       "        [TCP Retransmission]  [SYN]                                                329\n",
       "        [SYN]     SACK_PERM=1 TSval=2012018 TSecr=0 WS=128                           6\n",
       "        [SYN]     SACK_PERM=1 TSval=2029432 TSecr=0 WS=128                           5\n",
       "        [SYN]     SACK_PERM=1 TSval=2028589 TSecr=0 WS=128                           5\n",
       "                                                                                  ... \n",
       "1420.0  [SYN, ACK]  Ack=1    WS=512 SACK_PERM=1 TSval=1956197527 TSecr=2027939       1\n",
       "        [SYN, ACK]  Ack=1    WS=512 SACK_PERM=1 TSval=1956197534 TSecr=2027939       1\n",
       "        [SYN, ACK]  Ack=1    WS=512 SACK_PERM=1 TSval=1956197541 TSecr=2027940       1\n",
       "        [SYN, ACK]  Ack=1    WS=512 SACK_PERM=1 TSval=1956197541 TSecr=2027941       1\n",
       "265.0   [<None>]    WS=1024  TSval=4294967295 TSecr=0 SACK_PERM=1                    1\n",
       "Name: count, Length: 287, dtype: int64"
      ]
     },
     "execution_count": 26,
     "metadata": {},
     "output_type": "execute_result"
    }
   ],
   "source": [
    "df6[df6['MSS'].notna()].value_counts()"
   ]
  },
  {
   "cell_type": "code",
   "execution_count": 27,
   "metadata": {},
   "outputs": [],
   "source": [
    "def extract_Ack(text):\n",
    "    match = re.search(r'Ack=(\\d+)', text)\n",
    "    if match:\n",
    "        length = match.group(1) \n",
    "        updated_text = text.replace(match.group(0), '').strip()  # Strip to clean up any leading/trailing spaces\n",
    "        return int(length), updated_text\n",
    "    else:\n",
    "        return np.nan, text"
   ]
  },
  {
   "cell_type": "code",
   "execution_count": 28,
   "metadata": {},
   "outputs": [],
   "source": [
    "df7 = pd.DataFrame()\n",
    "df7[['Ack', 'updated_info']] = df6['updated_info'].apply(lambda x: pd.Series(extract_Ack(x)))"
   ]
  },
  {
   "cell_type": "code",
   "execution_count": 29,
   "metadata": {},
   "outputs": [
    {
     "data": {
      "text/plain": [
       "(5361, 7112)"
      ]
     },
     "execution_count": 29,
     "metadata": {},
     "output_type": "execute_result"
    }
   ],
   "source": [
    "df7['updated_info'].nunique(),df6['updated_info'].nunique()"
   ]
  },
  {
   "cell_type": "code",
   "execution_count": 30,
   "metadata": {},
   "outputs": [
    {
     "data": {
      "text/plain": [
       "Ack           updated_info                            \n",
       "1.000000e+00  [RST, ACK]                                  6224\n",
       "              [TCP Retransmission]  [PSH, ACK]             200\n",
       "              [ACK]                                         86\n",
       "5.190000e+02  [RST, ACK]                                    81\n",
       "4.440000e+02  [RST, ACK]                                    69\n",
       "                                                          ... \n",
       "2.442000e+03  [ACK]     TSval=1956193865 TSecr=2027020       1\n",
       "2.429000e+03  [ACK]     TSval=1956049907 TSecr=1991034       1\n",
       "2.412000e+03  [ACK]     TSval=1956204348 TSecr=2029635       1\n",
       "              [ACK]     TSval=1956203260 TSecr=2029368       1\n",
       "1.017995e+09  [TCP ACKed unseen segment]  [RST, ACK]         1\n",
       "Name: count, Length: 6261, dtype: int64"
      ]
     },
     "execution_count": 30,
     "metadata": {},
     "output_type": "execute_result"
    }
   ],
   "source": [
    "df7[df7['Ack'].notna()].value_counts()"
   ]
  },
  {
   "cell_type": "code",
   "execution_count": 31,
   "metadata": {},
   "outputs": [],
   "source": [
    "def extract_TSval(text):\n",
    "    match = re.search(r'TSval=(\\d+)', text)\n",
    "    if match:\n",
    "        length = match.group(1) \n",
    "        updated_text = text.replace(match.group(0), '').strip()  # Strip to clean up any leading/trailing spaces\n",
    "        return int(length), updated_text\n",
    "    else:\n",
    "        return np.nan, text"
   ]
  },
  {
   "cell_type": "code",
   "execution_count": 32,
   "metadata": {},
   "outputs": [],
   "source": [
    "df8 = pd.DataFrame()\n",
    "df8[['TSval', 'updated_info']] = df7['updated_info'].apply(lambda x: pd.Series(extract_TSval(x)))"
   ]
  },
  {
   "cell_type": "code",
   "execution_count": 33,
   "metadata": {},
   "outputs": [
    {
     "data": {
      "text/plain": [
       "(4451, 5361)"
      ]
     },
     "execution_count": 33,
     "metadata": {},
     "output_type": "execute_result"
    }
   ],
   "source": [
    "df8['updated_info'].nunique(),df7['updated_info'].nunique()"
   ]
  },
  {
   "cell_type": "code",
   "execution_count": 34,
   "metadata": {},
   "outputs": [
    {
     "data": {
      "text/plain": [
       "TSval         updated_info                                                \n",
       "1.956108e+09  [ACK]      TSecr=2005604 [TCP segment of a reassembled PDU]     54\n",
       "              [ACK]      TSecr=2005510 [TCP segment of a reassembled PDU]     48\n",
       "              [ACK]      TSecr=2005428 [TCP segment of a reassembled PDU]     40\n",
       "1.956198e+09  [ACK]      TSecr=2027972 [TCP segment of a reassembled PDU]     39\n",
       "              [ACK]      TSecr=2027958 [TCP segment of a reassembled PDU]     28\n",
       "                                                                              ..\n",
       "2.027249e+06  [ACK]      TSecr=1956194749                                      1\n",
       "2.027252e+06  [ACK]      TSecr=1956194764                                      1\n",
       "2.027253e+06  [ACK]      TSecr=1956194764                                      1\n",
       "2.027258e+06  [ACK]      TSecr=1956194786                                      1\n",
       "4.294967e+09  [TCP Retransmission]  [SYN]    WS=1024   TSecr=0 SACK_PERM=1     1\n",
       "Name: count, Length: 4527, dtype: int64"
      ]
     },
     "execution_count": 34,
     "metadata": {},
     "output_type": "execute_result"
    }
   ],
   "source": [
    "df8[df8['TSval'].notna()].value_counts()"
   ]
  },
  {
   "cell_type": "code",
   "execution_count": 35,
   "metadata": {},
   "outputs": [],
   "source": [
    "def extract_TSecr(text):\n",
    "    match = re.search(r'TSecr=(\\d+)', text)\n",
    "    if match:\n",
    "        length = match.group(1) \n",
    "        updated_text = text.replace(match.group(0), '').strip()  # Strip to clean up any leading/trailing spaces\n",
    "        return int(length), updated_text\n",
    "    else:\n",
    "        return np.nan, text"
   ]
  },
  {
   "cell_type": "code",
   "execution_count": 36,
   "metadata": {},
   "outputs": [],
   "source": [
    "df9 = pd.DataFrame()\n",
    "df9[['TSecr', 'updated_info']] = df8['updated_info'].apply(lambda x: pd.Series(extract_TSecr(x)))"
   ]
  },
  {
   "cell_type": "code",
   "execution_count": 37,
   "metadata": {},
   "outputs": [
    {
     "data": {
      "text/plain": [
       "(960, 4451)"
      ]
     },
     "execution_count": 37,
     "metadata": {},
     "output_type": "execute_result"
    }
   ],
   "source": [
    "df9['updated_info'].nunique(),df8['updated_info'].nunique()"
   ]
  },
  {
   "cell_type": "code",
   "execution_count": 38,
   "metadata": {},
   "outputs": [
    {
     "data": {
      "text/plain": [
       "TSecr         updated_info                                  \n",
       "0.000000e+00  [SYN]     SACK_PERM=1   WS=128                    184\n",
       "2.005604e+06  [ACK]       [TCP segment of a reassembled PDU]     94\n",
       "2.028086e+06  [ACK]       [TCP segment of a reassembled PDU]     90\n",
       "2.005510e+06  [ACK]       [TCP segment of a reassembled PDU]     71\n",
       "2.005428e+06  [ACK]       [TCP segment of a reassembled PDU]     55\n",
       "                                                               ... \n",
       "1.956038e+09  [ACK]                                               1\n",
       "              [ACK]                                               1\n",
       "              [ACK]                                               1\n",
       "1.956039e+09  [ACK]                                               1\n",
       "1.956046e+09  [ACK]                                               1\n",
       "Name: count, Length: 3617, dtype: int64"
      ]
     },
     "execution_count": 38,
     "metadata": {},
     "output_type": "execute_result"
    }
   ],
   "source": [
    "df9[df9['TSecr'].notna()].value_counts()"
   ]
  },
  {
   "cell_type": "code",
   "execution_count": 39,
   "metadata": {},
   "outputs": [],
   "source": [
    "def extract_WS(text):\n",
    "    match = re.search(r'WS=(\\d+)', text)\n",
    "    if match:\n",
    "        length = match.group(1) \n",
    "        updated_text = text.replace(match.group(0), '').strip()  # Strip to clean up any leading/trailing spaces\n",
    "        return int(length), updated_text\n",
    "    else:\n",
    "        return np.nan, text"
   ]
  },
  {
   "cell_type": "code",
   "execution_count": 40,
   "metadata": {},
   "outputs": [],
   "source": [
    "df10 = pd.DataFrame()\n",
    "df10[['WS', 'updated_info']] = df9['updated_info'].apply(lambda x: pd.Series(extract_WS(x)))"
   ]
  },
  {
   "cell_type": "code",
   "execution_count": 41,
   "metadata": {},
   "outputs": [
    {
     "data": {
      "text/plain": [
       "(954, 960)"
      ]
     },
     "execution_count": 41,
     "metadata": {},
     "output_type": "execute_result"
    }
   ],
   "source": [
    "df10['updated_info'].nunique(),df9['updated_info'].nunique()"
   ]
  },
  {
   "cell_type": "code",
   "execution_count": 42,
   "metadata": {},
   "outputs": [
    {
     "data": {
      "text/plain": [
       "WS       updated_info                                                                             \n",
       "128.0    [SYN]     SACK_PERM=1                                                                        184\n",
       "512.0    [SYN, ACK]       SACK_PERM=1                                                                 174\n",
       "256.0    [SYN, ACK]      SACK_PERM=1                                                                    7\n",
       "32.0     [SYN, ACK]       SACK_PERM=1                                                                   7\n",
       "1024.0   [TCP Retransmission]  [FIN, SYN, PSH, URG]   Urg=0      SACK_PERM=1                            3\n",
       "         [ACK]         SACK_PERM=1                                                                      3\n",
       "         [SYN]        SACK_PERM=1                                                                       3\n",
       "16384.0  [TCP Retransmission]  [FIN, PSH, URG]   Urg=0      SACK_PERM=1                                 2\n",
       "         [FIN, PSH, URG]   Urg=0      SACK_PERM=1                                                       2\n",
       "1024.0   [TCP Dup ACK 12624#1]  [<None>]        SACK_PERM=1                                             1\n",
       "16384.0  [TCP Previous segment not captured]  [FIN, PSH, URG]   Urg=0      SACK_PERM=1                  1\n",
       "1024.0   [TCP Retransmission]  [SYN]        SACK_PERM=1                                                 1\n",
       "         [TCP Port numbers reused]  [SYN]        SACK_PERM=1                                            1\n",
       "         [TCP Dup ACK 8358#1] [TCP ACKed unseen segment]  [ACK]         SACK_PERM=1                     1\n",
       "         [TCP Dup ACK 12624#3]  [<None>]        SACK_PERM=1                                             1\n",
       "         [TCP Dup ACK 12624#2]  [<None>]        SACK_PERM=1                                             1\n",
       "1.0      [SYN]      SACK_PERM=1                                                                         1\n",
       "1024.0   [TCP ACKed unseen segment] [TCP Previous segment not captured]  [ACK]         SACK_PERM=1      1\n",
       "         [SYN]    SACK_PERM=1                                                                           1\n",
       "         [SYN, ECN, CWR, Reserved]      SACK_PERM=1                                                     1\n",
       "         [FIN, SYN, PSH, URG]   Urg=0      SACK_PERM=1                                                  1\n",
       "         [<None>]        SACK_PERM=1                                                                    1\n",
       "256.0    [SYN, ACK]                                                                                     1\n",
       "         [SYN, ACK, ECN]      SACK_PERM=1                                                               1\n",
       "32.0     [SYN]                                                                                          1\n",
       "1024.0   [SYN]     SACK_PERM=1                                                                          1\n",
       "Name: count, dtype: int64"
      ]
     },
     "execution_count": 42,
     "metadata": {},
     "output_type": "execute_result"
    }
   ],
   "source": [
    "df10[df10['WS'].notna()].value_counts()"
   ]
  },
  {
   "cell_type": "code",
   "execution_count": 43,
   "metadata": {},
   "outputs": [],
   "source": [
    "def extract_Urg(text):\n",
    "    match = re.search(r'Urg=(\\d+)', text)\n",
    "    if match:\n",
    "        length = match.group(1) \n",
    "        updated_text = text.replace(match.group(0), '').strip()  # Strip to clean up any leading/trailing spaces\n",
    "        return int(length), updated_text\n",
    "    else:\n",
    "        return np.nan, text"
   ]
  },
  {
   "cell_type": "code",
   "execution_count": 44,
   "metadata": {},
   "outputs": [],
   "source": [
    "df11 = pd.DataFrame()\n",
    "df11[['Urg', 'updated_info']] = df10['updated_info'].apply(lambda x: pd.Series(extract_Urg(x)))"
   ]
  },
  {
   "cell_type": "code",
   "execution_count": 45,
   "metadata": {},
   "outputs": [
    {
     "data": {
      "text/plain": [
       "(954, 954)"
      ]
     },
     "execution_count": 45,
     "metadata": {},
     "output_type": "execute_result"
    }
   ],
   "source": [
    "df11['updated_info'].nunique(),df10['updated_info'].nunique()"
   ]
  },
  {
   "cell_type": "code",
   "execution_count": 46,
   "metadata": {},
   "outputs": [
    {
     "data": {
      "text/plain": [
       "Urg  updated_info                                                            \n",
       "0.0  [TCP Retransmission]  [FIN, SYN, PSH, URG]         SACK_PERM=1              3\n",
       "     [FIN, PSH, URG]         SACK_PERM=1                                         2\n",
       "     [TCP Retransmission]  [FIN, PSH, URG]         SACK_PERM=1                   2\n",
       "     [FIN, SYN, PSH, URG]         SACK_PERM=1                                    1\n",
       "     [TCP Previous segment not captured]  [FIN, PSH, URG]         SACK_PERM=1    1\n",
       "Name: count, dtype: int64"
      ]
     },
     "execution_count": 46,
     "metadata": {},
     "output_type": "execute_result"
    }
   ],
   "source": [
    "df11[df11['Urg'].notna()].value_counts()"
   ]
  },
  {
   "cell_type": "code",
   "execution_count": 47,
   "metadata": {},
   "outputs": [
    {
     "data": {
      "text/plain": [
       "updated_info\n",
       "Echo (ping) request  id=, /59262, ttl=64 (no response found!)                                                                         77715\n",
       "[SYN]                                                                                                                                  8386\n",
       "[RST, ACK]                                                                                                                             6429\n",
       "[ACK]                                                                                                                                  5395\n",
       "Application Data                                                                                                                       4029\n",
       "                                                                                                                                      ...  \n",
       "Standard query response  AAAA ocsp.digicert.com CNAME cs9.wac.phicdn.net                                                                  1\n",
       "Standard query response  AAAA safebrowsing.google.com CNAME sb.l.google.com AAAA 2404:6800:4006:80a::200e                                 1\n",
       "Standard query response  A safebrowsing.google.com CNAME sb.l.google.com A 216.58.199.78                                                  1\n",
       "Standard query response  AAAA location.services.mozilla.com CNAME locprod1-elb-eu-west-1.prod.mozaws.net SOA ns-1260.awsdns-29.org        1\n",
       "[TCP Dup ACK 111171#1]  [ACK]                                                                                                             1\n",
       "Name: count, Length: 954, dtype: int64"
      ]
     },
     "execution_count": 47,
     "metadata": {},
     "output_type": "execute_result"
    }
   ],
   "source": [
    "df11['updated_info'].value_counts()"
   ]
  },
  {
   "cell_type": "code",
   "execution_count": 48,
   "metadata": {},
   "outputs": [],
   "source": [
    "def extract_SACK_PERM(text):\n",
    "    match = re.search(r'SACK_PERM=(\\d+)', text)\n",
    "    if match:\n",
    "        length = match.group(1) \n",
    "        updated_text = text.replace(match.group(0), '').strip()  # Strip to clean up any leading/trailing spaces\n",
    "        return int(length), updated_text\n",
    "    else:\n",
    "        return np.nan, text"
   ]
  },
  {
   "cell_type": "code",
   "execution_count": 49,
   "metadata": {},
   "outputs": [],
   "source": [
    "df12 = pd.DataFrame()\n",
    "df12[['SACK_PERM', 'updated_info']] = df11['updated_info'].apply(lambda x: pd.Series(extract_SACK_PERM(x)))"
   ]
  },
  {
   "cell_type": "code",
   "execution_count": 50,
   "metadata": {},
   "outputs": [
    {
     "data": {
      "text/plain": [
       "(946, 954)"
      ]
     },
     "execution_count": 50,
     "metadata": {},
     "output_type": "execute_result"
    }
   ],
   "source": [
    "df12['updated_info'].nunique(),df11['updated_info'].nunique()"
   ]
  },
  {
   "cell_type": "code",
   "execution_count": 51,
   "metadata": {},
   "outputs": [
    {
     "data": {
      "text/plain": [
       "updated_info\n",
       "Echo (ping) request  id=, /59262, ttl=64 (no response found!)                                                                                                                                                                                                                                                                                                                                                                                                                                    77715\n",
       "[SYN]                                                                                                                                                                                                                                                                                                                                                                                                                                                                                             8577\n",
       "[RST, ACK]                                                                                                                                                                                                                                                                                                                                                                                                                                                                                        6429\n",
       "[ACK]                                                                                                                                                                                                                                                                                                                                                                                                                                                                                             5398\n",
       "Application Data                                                                                                                                                                                                                                                                                                                                                                                                                                                                                  4029\n",
       "                                                                                                                                                                                                                                                                                                                                                                                                                                                                                                 ...  \n",
       "Standard query  A lh3.googleusercontent.com                                                                                                                                                                                                                                                                                                                                                                                                                                                          1\n",
       "Standard query response  AAAA www.google.com AAAA 2404:6800:4006:80f::2004                                                                                                                                                                                                                                                                                                                                                                                                                           1\n",
       "Standard query response  A self-repair.mozilla.org CNAME self-repair.r53-2.services.mozilla.com CNAME d39fl7ga3npck8.cloudfront.net A 13.32.73.119 A 13.32.73.21 A 13.32.73.22 A 13.32.73.124                                                                                                                                                                                                                                                                                                        1\n",
       "Standard query response  AAAA self-repair.mozilla.org CNAME self-repair.r53-2.services.mozilla.com CNAME d39fl7ga3npck8.cloudfront.net AAAA 2600:9000:2084:7a00:13:9d43:b600:93a1 AAAA 2600:9000:2084:1000:13:9d43:b600:93a1 AAAA 2600:9000:2084:b000:13:9d43:b600:93a1 AAAA 2600:9000:2084:a00:13:9d43:b600:93a1 AAAA 2600:9000:2084:8600:13:9d43:b600:93a1 AAAA 2600:9000:2084:a200:13:9d43:b600:93a1 AAAA 2600:9000:2084:c600:13:9d43:b600:93a1 AAAA 2600:9000:2084:1a00:13:9d43:b600:93a1        1\n",
       "[TCP Dup ACK 111171#1]  [ACK]                                                                                                                                                                                                                                                                                                                                                                                                                                                                        1\n",
       "Name: count, Length: 946, dtype: int64"
      ]
     },
     "execution_count": 51,
     "metadata": {},
     "output_type": "execute_result"
    }
   ],
   "source": [
    "df12['updated_info'].value_counts()"
   ]
  },
  {
   "cell_type": "code",
   "execution_count": 52,
   "metadata": {},
   "outputs": [],
   "source": [
    "def extract_ttl(text):\n",
    "    match = re.search(r'ttl=(\\d+)', text)\n",
    "    if match:\n",
    "        length = match.group(1) \n",
    "        updated_text = text.replace(match.group(0), '').strip()  # Strip to clean up any leading/trailing spaces\n",
    "        return int(length), updated_text\n",
    "    else:\n",
    "        return np.nan, text"
   ]
  },
  {
   "cell_type": "code",
   "execution_count": 53,
   "metadata": {},
   "outputs": [],
   "source": [
    "df13 = pd.DataFrame()\n",
    "df13[['ttl', 'updated_info']] = df12['updated_info'].apply(lambda x: pd.Series(extract_ttl(x)))"
   ]
  },
  {
   "cell_type": "code",
   "execution_count": 54,
   "metadata": {},
   "outputs": [
    {
     "data": {
      "text/plain": [
       "(946, 946)"
      ]
     },
     "execution_count": 54,
     "metadata": {},
     "output_type": "execute_result"
    }
   ],
   "source": [
    "df13['updated_info'].nunique(),df12['updated_info'].nunique()"
   ]
  },
  {
   "cell_type": "code",
   "execution_count": null,
   "metadata": {},
   "outputs": [],
   "source": [
    "df13['updated_info'].value_counts().to_csv('data/log_analysis_rest/info946.csv')"
   ]
  },
  {
   "cell_type": "code",
   "execution_count": 56,
   "metadata": {},
   "outputs": [],
   "source": [
    "def extract_seq_ack(text):\n",
    "    # Regular expression to match the sequence number and acknowledgment number\n",
    "    match = re.search(r'TCP Dup ACK (\\d+)#(\\d+)', text)\n",
    "    \n",
    "    if match:\n",
    "        seq_num = match.group(1)  # Sequence number\n",
    "        ack_num = match.group(2)  # Acknowledgment number\n",
    "        updated_text = text.replace(match.group(0), '').strip()  # Clean up the text after extraction\n",
    "        return int(seq_num), int(ack_num), updated_text\n",
    "    else:\n",
    "        return np.nan, np.nan, text"
   ]
  },
  {
   "cell_type": "code",
   "execution_count": 57,
   "metadata": {},
   "outputs": [],
   "source": [
    "df14 = pd.DataFrame()\n",
    "df14[['seq_ack', 'ack_num', 'updated_info']] = df13['updated_info'].apply(lambda x: pd.Series(extract_seq_ack(x)))"
   ]
  },
  {
   "cell_type": "code",
   "execution_count": 58,
   "metadata": {},
   "outputs": [
    {
     "data": {
      "text/plain": [
       "(741, 946)"
      ]
     },
     "execution_count": 58,
     "metadata": {},
     "output_type": "execute_result"
    }
   ],
   "source": [
    "df14['updated_info'].nunique(),df13['updated_info'].nunique()"
   ]
  },
  {
   "cell_type": "code",
   "execution_count": null,
   "metadata": {},
   "outputs": [],
   "source": [
    "df14['updated_info'].value_counts().to_csv('data/log_analysis_rest/info741.csv')"
   ]
  },
  {
   "cell_type": "code",
   "execution_count": 60,
   "metadata": {},
   "outputs": [],
   "source": [
    "def extract_ips_from_parts(text):\n",
    "    # Regular expression to match IPv4 addresses\n",
    "    match = re.search(r'Who has (\\b(?:\\d{1,3}\\.){3}\\d{1,3}\\b).*?Tell (\\b(?:\\d{1,3}\\.){3}\\d{1,3}\\b)', text)\n",
    "    \n",
    "    if match:\n",
    "        # Extract the \"Who has\" IP and \"Tell\" IP\n",
    "        who_has_ip = match.group(1)\n",
    "        tell_ip = match.group(2)\n",
    "        \n",
    "        # Clean up the text after extracting the IPs\n",
    "        updated_text = text.replace(match.group(0), '').strip()\n",
    "        \n",
    "        return who_has_ip, tell_ip, updated_text\n",
    "    else:\n",
    "        # If no match found, return np.nan for both IPs and the original text\n",
    "        return np.nan, np.nan, text\n"
   ]
  },
  {
   "cell_type": "code",
   "execution_count": 61,
   "metadata": {},
   "outputs": [],
   "source": [
    "df15 = pd.DataFrame()\n",
    "df15[['who_has_ip', 'tell_ip', 'updated_info']] = df14['updated_info'].apply(lambda x: pd.Series(extract_ips_from_parts(x)))"
   ]
  },
  {
   "cell_type": "code",
   "execution_count": 62,
   "metadata": {},
   "outputs": [
    {
     "data": {
      "text/plain": [
       "(486, 741)"
      ]
     },
     "execution_count": 62,
     "metadata": {},
     "output_type": "execute_result"
    }
   ],
   "source": [
    "df15['updated_info'].nunique(),df14['updated_info'].nunique()"
   ]
  },
  {
   "cell_type": "code",
   "execution_count": null,
   "metadata": {},
   "outputs": [],
   "source": [
    "df15['updated_info'].value_counts().to_csv('data/log_analysis_rest/info486.csv')"
   ]
  },
  {
   "cell_type": "code",
   "execution_count": 67,
   "metadata": {},
   "outputs": [
    {
     "data": {
      "text/plain": [
       "<bound method Series.all of updated_info\n",
       "Echo (ping) request  id=, /59262,  (no response found!)                                                         77715\n",
       "[SYN]                                                                                                            8577\n",
       "[RST, ACK]                                                                                                       6429\n",
       "[ACK]                                                                                                            5398\n",
       "Application Data                                                                                                 4029\n",
       "                                                                                                                ...  \n",
       "Standard query response  A support.mozilla.org CNAME prod-tp.sumo.mozit.cloud A 34.211.9.45 A 35.160.176.220        1\n",
       "Standard query response  AAAA support.mozilla.org CNAME prod-tp.sumo.mozit.cloud SOA ns-1513.awsdns-61.org          1\n",
       "Standard query  AAAA support.mozilla.org                                                                            1\n",
       "U, func=Unknown; DSAP ISO Network Layer (OSLAN 1) Individual, SSAP  Response                                        1\n",
       "Standard query  A support.mozilla.org                                                                               1\n",
       "Name: count, Length: 486, dtype: int64>"
      ]
     },
     "execution_count": 67,
     "metadata": {},
     "output_type": "execute_result"
    }
   ],
   "source": [
    "df15['updated_info'].value_counts().all"
   ]
  },
  {
   "cell_type": "code",
   "execution_count": 75,
   "metadata": {},
   "outputs": [
    {
     "data": {
      "text/plain": [
       "111207"
      ]
     },
     "execution_count": 75,
     "metadata": {},
     "output_type": "execute_result"
    }
   ],
   "source": [
    "len(df15['updated_info'])\n"
   ]
  },
  {
   "cell_type": "code",
   "execution_count": 73,
   "metadata": {},
   "outputs": [
    {
     "data": {
      "text/plain": [
       "array(['Standard query  PTR 1.43.168.192.in-addr.arpa',\n",
       "       'Standard query response  No such name PTR 1.43.168.192.in-addr.arpa SOA localhost',\n",
       "       'Standard query  PTR 200.43.168.192.in-addr.arpa',\n",
       "       'Standard query response  PTR 200.43.168.192.in-addr.arpa PTR ESP_222DC9',\n",
       "       'Standard query response  No such name PTR 1.43.168.192.in-addr.arpa',\n",
       "       'Standard query  TXT version.bind',\n",
       "       'Standard query response  TXT version.bind TXT',\n",
       "       'Standard query  TXT id.server OPT',\n",
       "       'Standard query response  Refused TXT id.server OPT',\n",
       "       'Standard query  A api.libelium.com',\n",
       "       'Standard query response  A api.libelium.com A 52.208.217.22',\n",
       "       'Standard query  A detectportal.firefox.com',\n",
       "       'Standard query  AAAA detectportal.firefox.com',\n",
       "       'Standard query response  A detectportal.firefox.com CNAME detectportal.prod.mozaws.net CNAME detectportal.firefox.com-v2.edgesuite.net CNAME a1089.dscd.akamai.net A 23.40.101.80 A 23.40.101.8',\n",
       "       'Standard query response  AAAA detectportal.firefox.com CNAME detectportal.prod.mozaws.net CNAME detectportal.firefox.com-v2.edgesuite.net CNAME a1089.dscd.akamai.net AAAA 2600:1415:8800::1728:6508 AAAA 2600:1415:8800::1728:6550',\n",
       "       'Standard query response  A detectportal.firefox.com CNAME detectportal.prod.mozaws.net CNAME detectportal.firefox.com-v2.edgesuite.net CNAME a1089.dscd.akamai.net A 23.40.101.8 A 23.40.101.80',\n",
       "       'Standard query response  AAAA detectportal.firefox.com CNAME detectportal.prod.mozaws.net CNAME detectportal.firefox.com-v2.edgesuite.net CNAME a1089.dscd.akamai.net AAAA 2600:1415:8800::1728:6550 AAAA 2600:1415:8800::1728:6508',\n",
       "       'Standard query  A tiles.services.mozilla.com',\n",
       "       'Standard query  AAAA tiles.services.mozilla.com',\n",
       "       'Standard query response  No such name A tiles.services.mozilla.com SOA ns-679.awsdns-20.net',\n",
       "       'Standard query response  No such name AAAA tiles.services.mozilla.com SOA ns-679.awsdns-20.net',\n",
       "       'Standard query response  No such name A tiles.services.mozilla.com',\n",
       "       'Standard query response  No such name AAAA tiles.services.mozilla.com',\n",
       "       'Standard query  A www.mozilla.org',\n",
       "       'Standard query  AAAA www.mozilla.org',\n",
       "       'Standard query  A snippets.cdn.mozilla.net',\n",
       "       'Standard query  AAAA snippets.cdn.mozilla.net',\n",
       "       'Standard query response  A snippets.cdn.mozilla.net CNAME d228z91au11ukj.cloudfront.net A 13.32.73.101 A 13.32.73.39 A 13.32.73.78 A 13.32.73.113',\n",
       "       'Standard query response  AAAA snippets.cdn.mozilla.net CNAME d228z91au11ukj.cloudfront.net SOA ns-889.awsdns-47.net',\n",
       "       'Standard query response  AAAA www.mozilla.org CNAME www.mozilla.org.cdn.cloudflare.net AAAA 2606:4700::6810:8fe4 AAAA 2606:4700::6810:8ee4',\n",
       "       'Standard query  A safebrowsing.google.com',\n",
       "       'Standard query  AAAA safebrowsing.google.com',\n",
       "       'Standard query response  A safebrowsing.google.com CNAME sb.l.google.com A 172.217.167.78',\n",
       "       'Standard query response  AAAA safebrowsing.google.com CNAME sb.l.google.com AAAA 2404:6800:4006:806::200e',\n",
       "       'Standard query response  A www.mozilla.org CNAME www.mozilla.org.cdn.cloudflare.net A 104.16.143.228 A 104.16.142.228',\n",
       "       'Standard query  A ocsp.pki.goog',\n",
       "       'Standard query  AAAA ocsp.pki.goog',\n",
       "       'Standard query response  A ocsp.pki.goog CNAME pki-goog.l.google.com A 142.250.67.3',\n",
       "       'Standard query response  AAAA ocsp.pki.goog CNAME pki-goog.l.google.com AAAA 2404:6800:4006:811::2003',\n",
       "       'Standard query  A shavar.services.mozilla.com',\n",
       "       'Standard query  AAAA shavar.services.mozilla.com',\n",
       "       'Standard query response  A shavar.services.mozilla.com CNAME shavar.services.mozilla.com.edgesuite.net CNAME a1895.dscd.akamai.net A 23.40.101.73 A 23.40.101.75',\n",
       "       'Standard query response  AAAA shavar.services.mozilla.com CNAME shavar.services.mozilla.com.edgesuite.net CNAME a1895.dscd.akamai.net AAAA 2600:1415:8800::1728:6549 AAAA 2600:1415:8800::1728:654b',\n",
       "       'Standard query  A self-repair.mozilla.org',\n",
       "       'Standard query  AAAA self-repair.mozilla.org',\n",
       "       'Standard query response  A self-repair.mozilla.org CNAME self-repair.r53-2.services.mozilla.com CNAME d39fl7ga3npck8.cloudfront.net A 13.32.73.124 A 13.32.73.21 A 13.32.73.22 A 13.32.73.119',\n",
       "       'Standard query response  AAAA self-repair.mozilla.org CNAME self-repair.r53-2.services.mozilla.com CNAME d39fl7ga3npck8.cloudfront.net AAAA 2600:9000:2084:5800:13:9d43:b600:93a1 AAAA 2600:9000:2084:6200:13:9d43:b600:93a1 AAAA 2600:9000:2084:1400:13:9d43:b600:93a1 AAAA 2600:9000:2084:8400:13:9d43:b600:93a1 AAAA 2600:9000:2084:ec00:13:9d43:b600:93a1 AAAA 2600:9000:2084:9200:13:9d43:b600:93a1 AAAA 2600:9000:2084:9000:13:9d43:b600:93a1 AAAA 2600:9000:2084:bc00:13:9d43:b600:93a1',\n",
       "       'Standard query  A ocsp.digicert.com',\n",
       "       'Standard query  AAAA ocsp.digicert.com',\n",
       "       'Standard query response  A ocsp.digicert.com CNAME cs9.wac.phicdn.net A 117.18.237.29',\n",
       "       'Standard query response  AAAA ocsp.digicert.com CNAME cs9.wac.phicdn.net SOA ns1.edgecastcdn.net',\n",
       "       'Standard query  A www.kali.org',\n",
       "       'Standard query  AAAA www.kali.org',\n",
       "       'Standard query  A kali.training',\n",
       "       'Standard query  AAAA kali.training',\n",
       "       'Standard query  A tools.kali.org',\n",
       "       'Standard query  AAAA tools.kali.org',\n",
       "       'Standard query response  AAAA www.kali.org SOA ns1.gandi.net',\n",
       "       'Standard query response  A www.kali.org A 192.124.249.10',\n",
       "       'Standard query  A forums.kali.org',\n",
       "       'Standard query  AAAA forums.kali.org',\n",
       "       'Standard query response  A tools.kali.org A 192.124.249.6',\n",
       "       'Standard query response  AAAA tools.kali.org SOA ns1.gandi.net',\n",
       "       'Standard query  A bugs.kali.org',\n",
       "       'Standard query  AAAA bugs.kali.org',\n",
       "       'Standard query response  A kali.training A 192.124.249.3',\n",
       "       'Standard query response  A forums.kali.org A 192.124.249.12',\n",
       "       'Standard query response  AAAA forums.kali.org SOA ns1.gandi.net',\n",
       "       'Standard query response  AAAA kali.training SOA ns1.gandi.net',\n",
       "       'Standard query  A www.offensive-security.com',\n",
       "       'Standard query  AAAA www.offensive-security.com',\n",
       "       'Standard query  A www.exploit-db.com',\n",
       "       'Standard query  AAAA www.exploit-db.com',\n",
       "       'Standard query response  A bugs.kali.org A 192.124.249.169',\n",
       "       'Standard query response  AAAA bugs.kali.org SOA ns1.gandi.net',\n",
       "       'Standard query  A home.pearsonvue.com',\n",
       "       'Standard query  AAAA home.pearsonvue.com',\n",
       "       'Standard query response  A home.pearsonvue.com CNAME pearsonproductionsite.azurewebsites.net CNAME waws-prod-blu-023.sip.azurewebsites.windows.net A 137.117.66.167',\n",
       "       'Standard query response  AAAA home.pearsonvue.com CNAME pearsonproductionsite.azurewebsites.net CNAME waws-prod-blu-023.sip.azurewebsites.windows.net SOA prd1.azuredns-cloud.net',\n",
       "       'Standard query  A www.backtrack-linux.org',\n",
       "       'Standard query  AAAA www.backtrack-linux.org',\n",
       "       'Standard query response  A www.offensive-security.com A 192.124.249.5',\n",
       "       'Standard query response  A www.exploit-db.com A 192.124.249.8',\n",
       "       'Standard query response  AAAA www.exploit-db.com SOA ns1.gandi.net',\n",
       "       'Standard query  A www.facebook.com',\n",
       "       'Standard query  AAAA www.facebook.com',\n",
       "       'Standard query response  AAAA www.offensive-security.com SOA ns1.gandi.net',\n",
       "       'Standard query  A twitter.com',\n",
       "       'Standard query  AAAA twitter.com',\n",
       "       'Standard query response  A www.facebook.com CNAME star-mini.c10r.facebook.com A 157.240.8.35',\n",
       "       'Standard query response  A twitter.com A 104.244.42.193 A 104.244.42.65',\n",
       "       'Standard query response  AAAA twitter.com SOA ns1.p26.dynect.net',\n",
       "       'Standard query  A www.linkedin.com',\n",
       "       'Standard query  AAAA www.linkedin.com',\n",
       "       'Standard query response  AAAA www.facebook.com CNAME star-mini.c10r.facebook.com AAAA 2a03:2880:f119:8083:face:b00c:0:25de',\n",
       "       'Standard query response  A www.linkedin.com CNAME 2-01-2c3e-005a.cdx.cedexis.net CNAME www-linkedin-com.l-0005.l-msedge.net CNAME l-0005.l-msedge.net A 13.107.42.14',\n",
       "       'Standard query response  AAAA www.linkedin.com CNAME 2-01-2c3e-005a.cdx.cedexis.net CNAME www-linkedin-com.l-0005.l-msedge.net CNAME l-0005.l-msedge.net AAAA 2620:1ec:21::14',\n",
       "       'Standard query  A www.google.com',\n",
       "       'Standard query  AAAA www.google.com',\n",
       "       'Standard query response  A www.backtrack-linux.org A 192.124.249.8',\n",
       "       'Standard query response  AAAA www.backtrack-linux.org SOA ns1.gandi.net',\n",
       "       'Standard query response  A www.google.com A 142.250.66.196',\n",
       "       'Standard query response  AAAA www.google.com AAAA 2404:6800:4006:811::2004',\n",
       "       'Standard query  A www.gstatic.com',\n",
       "       'Standard query  AAAA www.gstatic.com',\n",
       "       'Standard query response  A www.gstatic.com A 142.250.67.3',\n",
       "       'Standard query response  AAAA www.gstatic.com AAAA 2404:6800:4006:811::2003',\n",
       "       'Standard query  A apis.google.com',\n",
       "       'Standard query  AAAA apis.google.com',\n",
       "       'Standard query response  A apis.google.com CNAME plus.l.google.com A 142.250.66.206',\n",
       "       'Standard query response  AAAA apis.google.com CNAME plus.l.google.com AAAA 2404:6800:4006:810::200e',\n",
       "       'Standard query  A adservice.google.com',\n",
       "       'Standard query  AAAA adservice.google.com',\n",
       "       'Standard query  A ogs.google.com',\n",
       "       'Standard query  AAAA ogs.google.com',\n",
       "       'Standard query response  AAAA adservice.google.com CNAME pagead46.l.doubleclick.net AAAA 2404:6800:4006:804::2002',\n",
       "       'Standard query response  A adservice.google.com CNAME pagead46.l.doubleclick.net A 172.217.167.66',\n",
       "       'Standard query response  A ogs.google.com CNAME www3.l.google.com A 172.217.167.110',\n",
       "       'Standard query response  AAAA ogs.google.com CNAME www3.l.google.com AAAA 2404:6800:4006:80b::200e',\n",
       "       'Standard query  A mail.google.com',\n",
       "       'Standard query  AAAA mail.google.com',\n",
       "       'Standard query response  AAAA mail.google.com CNAME googlemail.l.google.com AAAA 2404:6800:4006:805::2005',\n",
       "       'Standard query response  A mail.google.com CNAME googlemail.l.google.com A 216.58.196.133',\n",
       "       'Standard query  A accounts.google.com',\n",
       "       'Standard query  AAAA accounts.google.com',\n",
       "       'Standard query response  A accounts.google.com A 172.217.25.141',\n",
       "       'Standard query response  AAAA accounts.google.com AAAA 2404:6800:4006:803::200d',\n",
       "       'Standard query  A fonts.gstatic.com',\n",
       "       'Standard query  AAAA fonts.gstatic.com',\n",
       "       'Standard query response  A fonts.gstatic.com CNAME gstaticadssl.l.google.com A 172.217.167.99',\n",
       "       'Standard query response  AAAA fonts.gstatic.com CNAME gstaticadssl.l.google.com AAAA 2404:6800:4006:806::2003',\n",
       "       'Standard query  A ssl.gstatic.com',\n",
       "       'Standard query  AAAA ssl.gstatic.com',\n",
       "       'Standard query response  A ssl.gstatic.com A 142.250.66.227',\n",
       "       'Standard query response  AAAA ssl.gstatic.com AAAA 2404:6800:4006:810::2003',\n",
       "       'Standard query  A accounts.youtube.com',\n",
       "       'Standard query  AAAA accounts.youtube.com',\n",
       "       'Standard query response  A accounts.youtube.com CNAME www3.l.google.com A 172.217.167.110',\n",
       "       'Standard query response  AAAA accounts.youtube.com CNAME www3.l.google.com AAAA 2404:6800:4006:80b::200e',\n",
       "       'Standard query  A play.google.com',\n",
       "       'Standard query  AAAA play.google.com',\n",
       "       'Standard query response  A play.google.com A 216.58.203.110',\n",
       "       'Standard query response  AAAA play.google.com AAAA 2404:6800:4006:809::200e',\n",
       "       'Standard query  A mail-attachment.googleusercontent.com',\n",
       "       'Standard query  AAAA mail-attachment.googleusercontent.com',\n",
       "       'Standard query response  A mail-attachment.googleusercontent.com CNAME googlehosted.l.googleusercontent.com A 216.58.196.129',\n",
       "       'Standard query response  AAAA mail-attachment.googleusercontent.com CNAME googlehosted.l.googleusercontent.com AAAA 2404:6800:4006:805::2001',\n",
       "       'Standard query  A status.thawte.com',\n",
       "       'Standard query  AAAA status.thawte.com',\n",
       "       'Standard query response  A status.thawte.com CNAME ocsp.digicert.com CNAME cs9.wac.phicdn.net A 117.18.237.29',\n",
       "       'Standard query response  AAAA status.thawte.com CNAME ocsp.digicert.com CNAME cs9.wac.phicdn.net SOA ns1.edgecastcdn.net',\n",
       "       'Standard query  A aus5.mozilla.org',\n",
       "       'Standard query  AAAA aus5.mozilla.org',\n",
       "       'Standard query response  AAAA aus5.mozilla.org CNAME balrog-aus5.r53-2.services.mozilla.com CNAME balrog-cloudfront.prod.mozaws.net AAAA 2600:9000:2084:2600:a:db2a:b380:93a1 AAAA 2600:9000:2084:3400:a:db2a:b380:93a1 AAAA 2600:9000:2084:4000:a:db2a:b380:93a1 AAAA 2600:9000:2084:3800:a:db2a:b380:93a1 AAAA 2600:9000:2084:6c00:a:db2a:b380:93a1 AAAA 2600:9000:2084:3600:a:db2a:b380:93a1 AAAA 2600:9000:2084:a600:a:db2a:b380:93a1 AAAA 2600:9000:2084:b200:a:db2a:b380:93a1',\n",
       "       'Standard query response  A aus5.mozilla.org CNAME balrog-aus5.r53-2.services.mozilla.com CNAME balrog-cloudfront.prod.mozaws.net A 13.32.73.6 A 13.32.73.99 A 13.32.73.94 A 13.32.73.3',\n",
       "       'Standard query  A support.mozilla.org',\n",
       "       'Standard query  AAAA support.mozilla.org',\n",
       "       'Standard query response  AAAA support.mozilla.org CNAME prod-tp.sumo.mozit.cloud SOA ns-1513.awsdns-61.org',\n",
       "       'Standard query response  A support.mozilla.org CNAME prod-tp.sumo.mozit.cloud A 34.211.9.45 A 35.160.176.220',\n",
       "       'Standard query  A fonts.googleapis.com',\n",
       "       'Standard query  AAAA fonts.googleapis.com',\n",
       "       'Standard query response  A fonts.googleapis.com A 172.217.167.74',\n",
       "       'Standard query response  AAAA fonts.googleapis.com AAAA 2404:6800:4006:80e::200a',\n",
       "       'Standard query response  AAAA www.mozilla.org CNAME www.mozilla.org.cdn.cloudflare.net AAAA 2606:4700::6810:8ee4 AAAA 2606:4700::6810:8fe4',\n",
       "       'Standard query  A location.services.mozilla.com',\n",
       "       'Standard query  AAAA location.services.mozilla.com',\n",
       "       'Standard query response  A location.services.mozilla.com CNAME locprod1-elb-eu-west-1.prod.mozaws.net A 34.253.97.22 A 52.209.204.108 A 34.247.232.119',\n",
       "       'Standard query response  AAAA location.services.mozilla.com CNAME locprod1-elb-eu-west-1.prod.mozaws.net SOA ns-1260.awsdns-29.org',\n",
       "       'Standard query response  A safebrowsing.google.com CNAME sb.l.google.com A 216.58.199.78',\n",
       "       'Standard query response  AAAA safebrowsing.google.com CNAME sb.l.google.com AAAA 2404:6800:4006:80a::200e',\n",
       "       'Standard query response  AAAA ocsp.digicert.com CNAME cs9.wac.phicdn.net',\n",
       "       'Standard query response  AAAA self-repair.mozilla.org CNAME self-repair.r53-2.services.mozilla.com CNAME d39fl7ga3npck8.cloudfront.net AAAA 2600:9000:2084:7a00:13:9d43:b600:93a1 AAAA 2600:9000:2084:1000:13:9d43:b600:93a1 AAAA 2600:9000:2084:b000:13:9d43:b600:93a1 AAAA 2600:9000:2084:a00:13:9d43:b600:93a1 AAAA 2600:9000:2084:8600:13:9d43:b600:93a1 AAAA 2600:9000:2084:a200:13:9d43:b600:93a1 AAAA 2600:9000:2084:c600:13:9d43:b600:93a1 AAAA 2600:9000:2084:1a00:13:9d43:b600:93a1',\n",
       "       'Standard query response  A self-repair.mozilla.org CNAME self-repair.r53-2.services.mozilla.com CNAME d39fl7ga3npck8.cloudfront.net A 13.32.73.119 A 13.32.73.21 A 13.32.73.22 A 13.32.73.124',\n",
       "       'Standard query response  AAAA www.google.com AAAA 2404:6800:4006:80f::2004',\n",
       "       'Standard query  A lh3.googleusercontent.com',\n",
       "       'Standard query  AAAA lh3.googleusercontent.com',\n",
       "       'Standard query response  A lh3.googleusercontent.com CNAME googlehosted.l.googleusercontent.com A 216.58.196.129',\n",
       "       'Standard query response  AAAA lh3.googleusercontent.com CNAME googlehosted.l.googleusercontent.com AAAA 2404:6800:4006:805::2001',\n",
       "       'Standard query response  AAAA www.gstatic.com AAAA 2404:6800:4006:80b::2003',\n",
       "       'Standard query  A encrypted-tbn0.gstatic.com',\n",
       "       'Standard query  AAAA encrypted-tbn0.gstatic.com',\n",
       "       'Standard query response  A encrypted-tbn0.gstatic.com A 142.250.66.206',\n",
       "       'Standard query response  AAAA encrypted-tbn0.gstatic.com AAAA 2404:6800:4006:80f::200e',\n",
       "       'Standard query  A www.123telugu.com',\n",
       "       'Standard query  AAAA www.123telugu.com',\n",
       "       'Standard query response  A www.123telugu.com CNAME 123telugu-alb-live-new-211307917.us-east-1.elb.amazonaws.com A 34.196.191.3 A 54.196.9.233 A 100.25.79.143 A 3.217.97.91',\n",
       "       'Standard query response  AAAA www.123telugu.com CNAME 123telugu-alb-live-new-211307917.us-east-1.elb.amazonaws.com SOA ns-1119.awsdns-11.org',\n",
       "       'Standard query  A ocsp.sca1b.amazontrust.com',\n",
       "       'Standard query  AAAA ocsp.sca1b.amazontrust.com',\n",
       "       'Standard query response  A ocsp.sca1b.amazontrust.com A 13.32.126.190 A 13.32.126.81 A 13.32.126.84 A 13.32.126.76',\n",
       "       'Standard query response  AAAA ocsp.sca1b.amazontrust.com SOA ns-612.awsdns-12.net',\n",
       "       'Standard query  A pagead2.googlesyndication.com',\n",
       "       'Standard query  AAAA pagead2.googlesyndication.com',\n",
       "       'Standard query  A cdn.123telugu.com',\n",
       "       'Standard query  AAAA cdn.123telugu.com',\n",
       "       'Standard query response  A pagead2.googlesyndication.com CNAME pagead46.l.doubleclick.net A 172.217.167.66',\n",
       "       'Standard query response  AAAA pagead2.googlesyndication.com CNAME pagead46.l.doubleclick.net AAAA 2404:6800:4006:80b::2002',\n",
       "       'Standard query  A www.googletagservices.com',\n",
       "       'Standard query  AAAA www.googletagservices.com',\n",
       "       'Standard query  A gallery.123telugu.com',\n",
       "       'Standard query  AAAA gallery.123telugu.com',\n",
       "       'Standard query response  A www.googletagservices.com CNAME pagead46.l.doubleclick.net A 172.217.167.66',\n",
       "       'Standard query response  AAAA www.googletagservices.com CNAME pagead46.l.doubleclick.net AAAA 2404:6800:4006:804::2002',\n",
       "       'Standard query  A www.googleadservices.com',\n",
       "       'Standard query  AAAA www.googleadservices.com',\n",
       "       'Standard query response  A www.googleadservices.com CNAME pagead.l.doubleclick.net A 142.250.66.162',\n",
       "       'Standard query response  AAAA www.googleadservices.com CNAME pagead.l.doubleclick.net SOA ns1.google.com',\n",
       "       'Standard query response  A cdn.123telugu.com CNAME d3vglg9kwl581z.cloudfront.net A 13.32.73.42 A 13.32.73.69 A 13.32.73.28 A 13.32.73.79',\n",
       "       'Standard query response  AAAA cdn.123telugu.com CNAME d3vglg9kwl581z.cloudfront.net AAAA 2600:9000:2084:a600:18:fcfb:41c0:93a1 AAAA 2600:9000:2084:5800:18:fcfb:41c0:93a1 AAAA 2600:9000:2084:6e00:18:fcfb:41c0:93a1 AAAA 2600:9000:2084:4800:18:fcfb:41c0:93a1 AAAA 2600:9000:2084:9000:18:fcfb:41c0:93a1 AAAA 2600:9000:2084:4e00:18:fcfb:41c0:93a1 AAAA 2600:9000:2084:8800:18:fcfb:41c0:93a1 AAAA 2600:9000:2084:3400:18:fcfb:41c0:93a1',\n",
       "       'Standard query response  A gallery.123telugu.com CNAME d3vglg9kwl581z.cloudfront.net A 13.32.73.79 A 13.32.73.42 A 13.32.73.69 A 13.32.73.28',\n",
       "       'Standard query response  AAAA gallery.123telugu.com CNAME d3vglg9kwl581z.cloudfront.net AAAA 2600:9000:2084:6e00:18:fcfb:41c0:93a1 AAAA 2600:9000:2084:4800:18:fcfb:41c0:93a1 AAAA 2600:9000:2084:9000:18:fcfb:41c0:93a1 AAAA 2600:9000:2084:4e00:18:fcfb:41c0:93a1 AAAA 2600:9000:2084:8800:18:fcfb:41c0:93a1 AAAA 2600:9000:2084:3400:18:fcfb:41c0:93a1 AAAA 2600:9000:2084:a600:18:fcfb:41c0:93a1 AAAA 2600:9000:2084:5800:18:fcfb:41c0:93a1',\n",
       "       'Standard query  A www.statcounter.com',\n",
       "       'Standard query  AAAA www.statcounter.com',\n",
       "       'Standard query  A www.googletagmanager.com',\n",
       "       'Standard query  AAAA www.googletagmanager.com',\n",
       "       'Standard query  A cdn.jsdelivr.net',\n",
       "       'Standard query  AAAA cdn.jsdelivr.net',\n",
       "       'Standard query response  A www.statcounter.com A 104.22.52.65 A 104.22.53.65',\n",
       "       'Standard query response  AAAA www.statcounter.com SOA may.ns.cloudflare.com',\n",
       "       'Standard query response  A www.googletagmanager.com CNAME www-googletagmanager.l.google.com A 216.58.199.40',\n",
       "       'Standard query response  AAAA www.googletagmanager.com CNAME www-googletagmanager.l.google.com AAAA 2404:6800:4006:80b::2008',\n",
       "       'Standard query response  A cdn.jsdelivr.net CNAME cdn.jsdelivr.net.cdn.cloudflare.net A 104.16.85.20 A 104.16.87.20 A 104.16.88.20 A 104.16.86.20 A 104.16.89.20',\n",
       "       'Standard query response  AAAA cdn.jsdelivr.net CNAME cdn.jsdelivr.net.cdn.cloudflare.net AAAA 2606:4700::6810:5614 AAAA 2606:4700::6810:5914 AAAA 2606:4700::6810:5714 AAAA 2606:4700::6810:5814 AAAA 2606:4700::6810:5514',\n",
       "       'Standard query  A adservice.google.com.au',\n",
       "       'Standard query  AAAA adservice.google.com.au',\n",
       "       'Standard query response  A adservice.google.com.au CNAME pagead46.l.doubleclick.net A 172.217.167.66',\n",
       "       'Standard query response  AAAA adservice.google.com.au CNAME pagead46.l.doubleclick.net AAAA 2404:6800:4006:804::2002',\n",
       "       'Standard query response  AAAA adservice.google.com CNAME pagead46.l.doubleclick.net AAAA 2404:6800:4006:810::2002',\n",
       "       'Standard query  A googleads.g.doubleclick.net',\n",
       "       'Standard query  AAAA googleads.g.doubleclick.net',\n",
       "       'Standard query  A connect.facebook.net',\n",
       "       'Standard query  AAAA connect.facebook.net',\n",
       "       'Standard query  A partner.googleadservices.com',\n",
       "       'Standard query  AAAA partner.googleadservices.com',\n",
       "       'Standard query response  A googleads.g.doubleclick.net CNAME pagead46.l.doubleclick.net A 172.217.167.66',\n",
       "       'Standard query response  AAAA googleads.g.doubleclick.net CNAME pagead46.l.doubleclick.net AAAA 2404:6800:4006:810::2002',\n",
       "       'Standard query response  A connect.facebook.net CNAME scontent.xx.fbcdn.net A 157.240.8.23',\n",
       "       'Standard query response  AAAA connect.facebook.net CNAME scontent.xx.fbcdn.net AAAA 2a03:2880:f019:116:face:b00c:0:3',\n",
       "       'Standard query response  A partner.googleadservices.com CNAME partnerad.l.doubleclick.net A 172.217.25.162',\n",
       "       'Standard query response  AAAA partner.googleadservices.com CNAME partnerad.l.doubleclick.net SOA ns1.google.com',\n",
       "       'Standard query  A securepubads.g.doubleclick.net',\n",
       "       'Standard query  AAAA securepubads.g.doubleclick.net',\n",
       "       'Standard query response  AAAA securepubads.g.doubleclick.net CNAME partnerad.l.doubleclick.net SOA ns1.google.com',\n",
       "       'Standard query response  A securepubads.g.doubleclick.net CNAME partnerad.l.doubleclick.net A 172.217.25.34',\n",
       "       'Standard query  A d31qbv1cthcecs.cloudfront.net',\n",
       "       'Standard query  AAAA d31qbv1cthcecs.cloudfront.net',\n",
       "       'Standard query response  A d31qbv1cthcecs.cloudfront.net A 13.32.73.104 A 13.32.73.93 A 13.32.73.117 A 13.32.73.71',\n",
       "       'Standard query response  AAAA d31qbv1cthcecs.cloudfront.net SOA ns-162.awsdns-20.com',\n",
       "       'Standard query  A c.statcounter.com',\n",
       "       'Standard query  AAAA c.statcounter.com',\n",
       "       'Standard query response  A c.statcounter.com A 104.22.53.65 A 104.22.52.65',\n",
       "       'Standard query response  AAAA c.statcounter.com SOA may.ns.cloudflare.com',\n",
       "       'Standard query  A certify.alexametrics.com',\n",
       "       'Standard query  AAAA certify.alexametrics.com',\n",
       "       'Standard query response  A certify.alexametrics.com A 13.32.73.98 A 13.32.73.109 A 13.32.73.61 A 13.32.73.112',\n",
       "       'Standard query response  AAAA certify.alexametrics.com SOA ns-1591.awsdns-06.co.uk',\n",
       "       'Standard query  A www.google-analytics.com',\n",
       "       'Standard query  AAAA www.google-analytics.com',\n",
       "       'Standard query response  A www.google-analytics.com CNAME www-google-analytics.l.google.com A 142.250.66.174',\n",
       "       'Standard query response  AAAA www.google-analytics.com CNAME www-google-analytics.l.google.com AAAA 2404:6800:4006:80e::200e',\n",
       "       'Standard query  A tpc.googlesyndication.com',\n",
       "       'Standard query  AAAA tpc.googlesyndication.com',\n",
       "       'Standard query response  A tpc.googlesyndication.com A 142.250.66.161',\n",
       "       'Standard query response  AAAA tpc.googlesyndication.com AAAA 2404:6800:4006:80e::2001',\n",
       "       'Standard query  A fw.adsafeprotected.com',\n",
       "       'Standard query  AAAA fw.adsafeprotected.com',\n",
       "       'Standard query response  A fw.adsafeprotected.com CNAME aufw.adsafeprotected.com CNAME firewall-external-760883286.ap-southeast-2.elb.amazonaws.com A 13.238.187.36 A 52.63.199.241 A 3.25.28.157',\n",
       "       'Standard query response  AAAA fw.adsafeprotected.com CNAME aufw.adsafeprotected.com CNAME firewall-external-760883286.ap-southeast-2.elb.amazonaws.com SOA ns-99.awsdns-12.com',\n",
       "       'Standard query  A unibots.warw.in',\n",
       "       'Standard query  AAAA unibots.warw.in',\n",
       "       'Standard query  A s0.2mdn.net',\n",
       "       'Standard query  AAAA s0.2mdn.net',\n",
       "       'Standard query response  A unibots.warw.in CNAME api-server-927803428.ap-south-1.elb.amazonaws.com A 3.7.131.42 A 3.6.217.211',\n",
       "       'Standard query response  AAAA unibots.warw.in CNAME api-server-927803428.ap-south-1.elb.amazonaws.com SOA ns-329.awsdns-41.com',\n",
       "       'Standard query  A ad.atdmt.com',\n",
       "       'Standard query  AAAA ad.atdmt.com',\n",
       "       'Standard query response  A s0.2mdn.net CNAME s0-2mdn-net.l.google.com A 142.250.66.230',\n",
       "       'Standard query response  AAAA s0.2mdn.net CNAME s0-2mdn-net.l.google.com AAAA 2404:6800:4006:810::2006',\n",
       "       'Standard query  A googleads4.g.doubleclick.net',\n",
       "       'Standard query  AAAA googleads4.g.doubleclick.net',\n",
       "       'Standard query response  A ad.atdmt.com CNAME geo.atlassbx.com CNAME atlas.c10r.facebook.com A 157.240.8.7',\n",
       "       'Standard query response  AAAA ad.atdmt.com CNAME geo.atlassbx.com CNAME atlas.c10r.facebook.com AAAA 2a03:2880:f019:106:face:b00c:0:8c',\n",
       "       'Standard query response  A googleads4.g.doubleclick.net CNAME pagead.l.doubleclick.net A 172.217.25.162',\n",
       "       'Standard query response  AAAA googleads4.g.doubleclick.net CNAME pagead.l.doubleclick.net SOA ns1.google.com',\n",
       "       'Standard query  A ib.adnxs.com',\n",
       "       'Standard query  AAAA ib.adnxs.com',\n",
       "       'Standard query response  A ib.adnxs.com CNAME g.geogslb.com CNAME ib.sin1.geoadnxs.com A 103.43.90.20 A 103.43.90.21 A 103.43.90.179 A 103.43.90.54 A 103.43.90.19 A 103.43.90.53 A 103.43.90.180 A 103.43.90.181',\n",
       "       'Standard query response  AAAA ib.adnxs.com CNAME g.geogslb.com CNAME ib.sin1.geoadnxs.com',\n",
       "       'Standard query  A ads.us.e-planning.net',\n",
       "       'Standard query  AAAA ads.us.e-planning.net',\n",
       "       'Standard query  A bidder.criteo.com',\n",
       "       'Standard query  AAAA bidder.criteo.com',\n",
       "       'Standard query  A ap.lijit.com',\n",
       "       'Standard query  AAAA ap.lijit.com',\n",
       "       'Standard query  A ads.servenobid.com',\n",
       "       'Standard query  AAAA ads.servenobid.com',\n",
       "       'Standard query response  A ads.us.e-planning.net A 107.160.33.186',\n",
       "       'Standard query response  AAAA ads.us.e-planning.net SOA ns-863.awsdns-43.net',\n",
       "       'Standard query response  A bidder.criteo.com CNAME bidder.criteo.com.cdn.cloudflare.net A 104.18.7.124 A 104.18.6.124',\n",
       "       'Standard query response  AAAA bidder.criteo.com CNAME bidder.criteo.com.cdn.cloudflare.net SOA ns1.cloudflare.net',\n",
       "       'Standard query  A yieldbird-d.openx.net',\n",
       "       'Standard query  AAAA yieldbird-d.openx.net',\n",
       "       'Standard query response  A ap.lijit.com CNAME vap.lijit.com A 209.191.163.210 A 209.191.163.209',\n",
       "       'Standard query  A ssc.33across.com',\n",
       "       'Standard query  AAAA ssc.33across.com',\n",
       "       'Standard query response  A ads.servenobid.com A 100.20.136.126 A 54.213.87.45',\n",
       "       'Standard query response  AAAA ads.servenobid.com SOA ns-396.awsdns-49.com',\n",
       "       'Standard query response  A yieldbird-d.openx.net A 35.244.159.8',\n",
       "       'Standard query  A fastlane.rubiconproject.com',\n",
       "       'Standard query  AAAA fastlane.rubiconproject.com',\n",
       "       'Standard query response  A ssc.33across.com CNAME chi.ssc.33across.com A 67.202.110.24',\n",
       "       'Standard query response  AAAA ssc.33across.com CNAME chi.ssc.33across.com SOA ns1.p23.dynect.net',\n",
       "       'Standard query response  A ads.servenobid.com A 54.213.87.45 A 100.20.136.126',\n",
       "       'Standard query response  AAAA ads.servenobid.com',\n",
       "       'Standard query response  A ib.adnxs.com CNAME g.geogslb.com CNAME ib.sin1.geoadnxs.com A 103.43.90.181 A 103.43.90.180 A 103.43.90.53 A 103.43.90.19 A 103.43.90.54 A 103.43.90.179 A 103.43.90.21 A 103.43.90.20',\n",
       "       'Standard query  A hb.emxdgt.com',\n",
       "       'Standard query  AAAA hb.emxdgt.com',\n",
       "       'Standard query response  A fastlane.rubiconproject.com CNAME optimized-by.rubiconproject.net.akadns.net CNAME perf-optimized-by.rubiconproject.net.akadns.net A 69.173.159.49 A 69.173.159.50 A 69.173.159.63 A 69.173.159.48',\n",
       "       'Standard query response  AAAA fastlane.rubiconproject.com CNAME optimized-by.rubiconproject.net.akadns.net CNAME perf-optimized-by.rubiconproject.net.akadns.net SOA internal.akadns.net',\n",
       "       'Standard query response  A hb.emxdgt.com A 52.9.210.145 A 54.183.163.145 A 54.67.1.64 A 54.67.120.222 A 54.219.127.22 A 54.219.109.53',\n",
       "       'Standard query response  AAAA hb.emxdgt.com SOA ns-1396.awsdns-46.org',\n",
       "       'Standard query response  AAAA ap.lijit.com CNAME vap.lijit.com SOA ns1.p15.dynect.net',\n",
       "       'Standard query response  AAAA yieldbird-d.openx.net SOA dns1.p04.nsone.net',\n",
       "       'Standard query  A sc.iasds01.com',\n",
       "       'Standard query  AAAA sc.iasds01.com',\n",
       "       'Standard query response  A sc.iasds01.com CNAME ausc.iasds01.com CNAME firewall-external-760883286.ap-southeast-2.elb.amazonaws.com A 13.238.187.36 A 52.63.199.241 A 3.25.28.157',\n",
       "       'Standard query response  AAAA sc.iasds01.com CNAME ausc.iasds01.com CNAME firewall-external-760883286.ap-southeast-2.elb.amazonaws.com SOA ns-99.awsdns-12.com',\n",
       "       'Standard query  A ocsp.int-x3.letsencrypt.org',\n",
       "       'Standard query  AAAA ocsp.int-x3.letsencrypt.org',\n",
       "       'Standard query response  A ocsp.int-x3.letsencrypt.org CNAME ocsp.int-x3.letsencrypt.org.edgesuite.net CNAME a771.dscq.akamai.net A 23.40.101.73 A 23.40.101.56',\n",
       "       'Standard query response  AAAA ocsp.int-x3.letsencrypt.org CNAME ocsp.int-x3.letsencrypt.org.edgesuite.net CNAME a771.dscq.akamai.net AAAA 2600:1415:8800::1728:6549 AAAA 2600:1415:8800::1728:6538',\n",
       "       'Standard query  A ocsp.sectigo.com',\n",
       "       'Standard query  AAAA ocsp.sectigo.com',\n",
       "       'Standard query response  A ocsp.sectigo.com A 151.139.128.14',\n",
       "       'Standard query response  AAAA ocsp.sectigo.com AAAA 2001:4de0:ac19::1:b:1b AAAA 2001:4de0:ac19::1:b:2a AAAA 2001:4de0:ac19::1:b:3b AAAA 2001:4de0:ac19::1:b:1a AAAA 2001:4de0:ac19::1:b:3a AAAA 2001:4de0:ac19::1:b:2b',\n",
       "       'Standard query  A static.adsafeprotected.com',\n",
       "       'Standard query  AAAA static.adsafeprotected.com',\n",
       "       'Standard query  A status.geotrust.com',\n",
       "       'Standard query  AAAA status.geotrust.com',\n",
       "       'Standard query response  A static.adsafeprotected.com CNAME d162h6x3rxav67.cloudfront.net A 13.35.101.5 A 13.35.101.94 A 13.35.101.7 A 13.35.101.114',\n",
       "       'Standard query response  AAAA static.adsafeprotected.com CNAME d162h6x3rxav67.cloudfront.net AAAA 2600:9000:20c5:3a00:8:48e:53c0:93a1 AAAA 2600:9000:20c5:8000:8:48e:53c0:93a1 AAAA 2600:9000:20c5:cc00:8:48e:53c0:93a1 AAAA 2600:9000:20c5:a200:8:48e:53c0:93a1 AAAA 2600:9000:20c5:5800:8:48e:53c0:93a1 AAAA 2600:9000:20c5:5400:8:48e:53c0:93a1 AAAA 2600:9000:20c5:b400:8:48e:53c0:93a1 AAAA 2600:9000:20c5:a400:8:48e:53c0:93a1',\n",
       "       'Standard query  A encrypted-tbn2.gstatic.com',\n",
       "       'Standard query  AAAA encrypted-tbn2.gstatic.com',\n",
       "       'Standard query response  A status.geotrust.com CNAME ocsp.digicert.com CNAME cs9.wac.phicdn.net A 117.18.237.29',\n",
       "       'Standard query response  AAAA status.geotrust.com CNAME ocsp.digicert.com CNAME cs9.wac.phicdn.net SOA ns1.edgecastcdn.net',\n",
       "       'Standard query  A encrypted-tbn1.gstatic.com',\n",
       "       'Standard query  AAAA encrypted-tbn1.gstatic.com',\n",
       "       'Standard query  A encrypted-tbn3.gstatic.com',\n",
       "       'Standard query  AAAA encrypted-tbn3.gstatic.com',\n",
       "       'Standard query response  A encrypted-tbn2.gstatic.com A 142.250.67.14',\n",
       "       'Standard query response  AAAA encrypted-tbn2.gstatic.com AAAA 2404:6800:4006:811::200e',\n",
       "       'Standard query response  A encrypted-tbn1.gstatic.com A 216.58.200.110',\n",
       "       'Standard query response  AAAA encrypted-tbn1.gstatic.com AAAA 2404:6800:4006:806::200e',\n",
       "       'Standard query response  A encrypted-tbn3.gstatic.com A 142.250.66.174',\n",
       "       'Standard query response  AAAA encrypted-tbn3.gstatic.com AAAA 2404:6800:4006:804::200e',\n",
       "       'Standard query  A ocsp.godaddy.com',\n",
       "       'Standard query  AAAA ocsp.godaddy.com',\n",
       "       'Standard query response  A ocsp.godaddy.com CNAME ocsp.godaddy.com.akadns.net A 192.124.249.23 A 192.124.249.24 A 192.124.249.22 A 192.124.249.41 A 192.124.249.36',\n",
       "       'Standard query response  AAAA ocsp.godaddy.com CNAME ocsp.godaddy.com.akadns.net SOA internal.akadns.net',\n",
       "       'Standard query  A stats.g.doubleclick.net',\n",
       "       'Standard query  AAAA stats.g.doubleclick.net',\n",
       "       'Standard query response  A stats.g.doubleclick.net CNAME stats.l.doubleclick.net A 74.125.24.155 A 74.125.24.156 A 74.125.24.154 A 74.125.24.157',\n",
       "       'Standard query response  AAAA stats.g.doubleclick.net CNAME stats.l.doubleclick.net AAAA 2404:6800:4003:c03::9a',\n",
       "       'Standard query  A bid.g.doubleclick.net',\n",
       "       'Standard query  AAAA bid.g.doubleclick.net',\n",
       "       'Standard query response  A bid.g.doubleclick.net CNAME ads-bid.l.doubleclick.net A 172.217.194.157 A 172.217.194.156 A 172.217.194.155 A 172.217.194.154',\n",
       "       'Standard query response  AAAA bid.g.doubleclick.net CNAME ads-bid.l.doubleclick.net SOA ns1.google.com',\n",
       "       'Standard query  A cdn.ampproject.org',\n",
       "       'Standard query  AAAA cdn.ampproject.org',\n",
       "       'Standard query response  A cdn.ampproject.org CNAME cdn-content.ampproject.org A 142.250.66.193',\n",
       "       'Standard query response  AAAA cdn.ampproject.org CNAME cdn-content.ampproject.org AAAA 2404:6800:4006:806::2001',\n",
       "       'Standard query  A cm.g.doubleclick.net',\n",
       "       'Standard query  AAAA cm.g.doubleclick.net',\n",
       "       'Standard query  A dsum-sec.casalemedia.com',\n",
       "       'Standard query  AAAA dsum-sec.casalemedia.com',\n",
       "       'Standard query response  AAAA cm.g.doubleclick.net CNAME pagead.l.doubleclick.net SOA ns1.google.com',\n",
       "       'Standard query response  A cm.g.doubleclick.net CNAME pagead.l.doubleclick.net A 172.217.25.162',\n",
       "       'Standard query response  AAAA dsum-sec.casalemedia.com CNAME dsum-sec.casalemedia.com.edgekey.net CNAME e8037.g.akamaiedge.net SOA n0g.akamaiedge.net',\n",
       "       'Standard query response  A dsum-sec.casalemedia.com CNAME dsum-sec.casalemedia.com.edgekey.net CNAME e8037.g.akamaiedge.net A 96.7.134.29',\n",
       "       'Standard query response  AAAA accounts.google.com AAAA 2404:6800:4006:804::200d',\n",
       "       'Standard query  A static.criteo.net',\n",
       "       'Standard query  AAAA static.criteo.net',\n",
       "       'Standard query response  A static.criteo.net CNAME static.hk5.vip.prod.criteo.net A 182.161.72.131 A 182.161.72.140',\n",
       "       'Standard query response  AAAA static.criteo.net CNAME static.hk5.vip.prod.criteo.net AAAA 2406:2600:1::4'],\n",
       "      dtype=object)"
      ]
     },
     "execution_count": 73,
     "metadata": {},
     "output_type": "execute_result"
    }
   ],
   "source": [
    "# Filter rows that contain 'standard query' or 'standard query response'\n",
    "filtered_df = df15[df15['updated_info'].str.contains('standard query', case=False, na=False)]\n",
    "\n",
    "# Get the unique values from the 'updated_info' column\n",
    "unique_values = filtered_df['updated_info'].unique()\n",
    "\n",
    "# Display the unique values\n",
    "unique_values\n"
   ]
  },
  {
   "cell_type": "code",
   "execution_count": 74,
   "metadata": {},
   "outputs": [
    {
     "data": {
      "text/plain": [
       "384"
      ]
     },
     "execution_count": 74,
     "metadata": {},
     "output_type": "execute_result"
    }
   ],
   "source": [
    "len(unique_values)"
   ]
  },
  {
   "cell_type": "code",
   "execution_count": 76,
   "metadata": {},
   "outputs": [],
   "source": [
    "# Replace rows containing 'standard query' with NaN in the 'updated_info' column\n",
    "df15.loc[df15['updated_info'].str.contains('standard query', case=False, na=False), 'updated_info'] = np.nan"
   ]
  },
  {
   "cell_type": "code",
   "execution_count": 80,
   "metadata": {},
   "outputs": [
    {
     "data": {
      "text/plain": [
       "102"
      ]
     },
     "execution_count": 80,
     "metadata": {},
     "output_type": "execute_result"
    }
   ],
   "source": [
    "df15['updated_info'].nunique()"
   ]
  },
  {
   "cell_type": "code",
   "execution_count": null,
   "metadata": {},
   "outputs": [],
   "source": [
    "df15['updated_info'].value_counts().to_csv('data/log_analysis_rest/info102.csv')"
   ]
  },
  {
   "cell_type": "code",
   "execution_count": 83,
   "metadata": {},
   "outputs": [
    {
     "data": {
      "text/html": [
       "<div>\n",
       "<style scoped>\n",
       "    .dataframe tbody tr th:only-of-type {\n",
       "        vertical-align: middle;\n",
       "    }\n",
       "\n",
       "    .dataframe tbody tr th {\n",
       "        vertical-align: top;\n",
       "    }\n",
       "\n",
       "    .dataframe thead th {\n",
       "        text-align: right;\n",
       "    }\n",
       "</style>\n",
       "<table border=\"1\" class=\"dataframe\">\n",
       "  <thead>\n",
       "    <tr style=\"text-align: right;\">\n",
       "      <th></th>\n",
       "      <th>source_p</th>\n",
       "      <th>destination_p</th>\n",
       "      <th>updated_info</th>\n",
       "    </tr>\n",
       "  </thead>\n",
       "  <tbody>\n",
       "    <tr>\n",
       "      <th>0</th>\n",
       "      <td>NaN</td>\n",
       "      <td>NaN</td>\n",
       "      <td>Who has 192.168.43.1? Tell 192.168.43.186</td>\n",
       "    </tr>\n",
       "    <tr>\n",
       "      <th>1</th>\n",
       "      <td>NaN</td>\n",
       "      <td>NaN</td>\n",
       "      <td>192.168.43.1 is at 6e:c7:ec:3c:f2:ba</td>\n",
       "    </tr>\n",
       "    <tr>\n",
       "      <th>2</th>\n",
       "      <td>NaN</td>\n",
       "      <td>NaN</td>\n",
       "      <td>Who has 192.168.43.1? Tell 192.168.43.186</td>\n",
       "    </tr>\n",
       "    <tr>\n",
       "      <th>3</th>\n",
       "      <td>NaN</td>\n",
       "      <td>NaN</td>\n",
       "      <td>Standard query 0x0c44 PTR 1.43.168.192.in-addr...</td>\n",
       "    </tr>\n",
       "    <tr>\n",
       "      <th>4</th>\n",
       "      <td>NaN</td>\n",
       "      <td>NaN</td>\n",
       "      <td>192.168.43.1 is at 6e:c7:ec:3c:f2:ba</td>\n",
       "    </tr>\n",
       "    <tr>\n",
       "      <th>...</th>\n",
       "      <td>...</td>\n",
       "      <td>...</td>\n",
       "      <td>...</td>\n",
       "    </tr>\n",
       "    <tr>\n",
       "      <th>111202</th>\n",
       "      <td>NaN</td>\n",
       "      <td>NaN</td>\n",
       "      <td>Who has 192.168.43.1? Tell 192.168.43.186</td>\n",
       "    </tr>\n",
       "    <tr>\n",
       "      <th>111203</th>\n",
       "      <td>NaN</td>\n",
       "      <td>NaN</td>\n",
       "      <td>192.168.43.1 is at 6e:c7:ec:3c:f2:ba</td>\n",
       "    </tr>\n",
       "    <tr>\n",
       "      <th>111204</th>\n",
       "      <td>NaN</td>\n",
       "      <td>NaN</td>\n",
       "      <td>192.168.43.1 is at 00:c0:ca:97:cf:63 (duplicat...</td>\n",
       "    </tr>\n",
       "    <tr>\n",
       "      <th>111205</th>\n",
       "      <td>NaN</td>\n",
       "      <td>NaN</td>\n",
       "      <td>192.168.43.1 is at 00:c0:ca:97:cf:63 (duplicat...</td>\n",
       "    </tr>\n",
       "    <tr>\n",
       "      <th>111206</th>\n",
       "      <td>NaN</td>\n",
       "      <td>NaN</td>\n",
       "      <td>192.168.43.1 is at 00:c0:ca:97:cf:63 (duplicat...</td>\n",
       "    </tr>\n",
       "  </tbody>\n",
       "</table>\n",
       "<p>111207 rows × 3 columns</p>\n",
       "</div>"
      ],
      "text/plain": [
       "        source_p  destination_p  \\\n",
       "0            NaN            NaN   \n",
       "1            NaN            NaN   \n",
       "2            NaN            NaN   \n",
       "3            NaN            NaN   \n",
       "4            NaN            NaN   \n",
       "...          ...            ...   \n",
       "111202       NaN            NaN   \n",
       "111203       NaN            NaN   \n",
       "111204       NaN            NaN   \n",
       "111205       NaN            NaN   \n",
       "111206       NaN            NaN   \n",
       "\n",
       "                                             updated_info  \n",
       "0               Who has 192.168.43.1? Tell 192.168.43.186  \n",
       "1                    192.168.43.1 is at 6e:c7:ec:3c:f2:ba  \n",
       "2               Who has 192.168.43.1? Tell 192.168.43.186  \n",
       "3       Standard query 0x0c44 PTR 1.43.168.192.in-addr...  \n",
       "4                    192.168.43.1 is at 6e:c7:ec:3c:f2:ba  \n",
       "...                                                   ...  \n",
       "111202          Who has 192.168.43.1? Tell 192.168.43.186  \n",
       "111203               192.168.43.1 is at 6e:c7:ec:3c:f2:ba  \n",
       "111204  192.168.43.1 is at 00:c0:ca:97:cf:63 (duplicat...  \n",
       "111205  192.168.43.1 is at 00:c0:ca:97:cf:63 (duplicat...  \n",
       "111206  192.168.43.1 is at 00:c0:ca:97:cf:63 (duplicat...  \n",
       "\n",
       "[111207 rows x 3 columns]"
      ]
     },
     "execution_count": 83,
     "metadata": {},
     "output_type": "execute_result"
    }
   ],
   "source": []
  },
  {
   "cell_type": "code",
   "execution_count": null,
   "metadata": {},
   "outputs": [],
   "source": []
  }
 ],
 "metadata": {
  "kernelspec": {
   "display_name": "Python 3",
   "language": "python",
   "name": "python3"
  },
  "language_info": {
   "codemirror_mode": {
    "name": "ipython",
    "version": 3
   },
   "file_extension": ".py",
   "mimetype": "text/x-python",
   "name": "python",
   "nbconvert_exporter": "python",
   "pygments_lexer": "ipython3",
   "version": "3.11.5"
  }
 },
 "nbformat": 4,
 "nbformat_minor": 2
}
